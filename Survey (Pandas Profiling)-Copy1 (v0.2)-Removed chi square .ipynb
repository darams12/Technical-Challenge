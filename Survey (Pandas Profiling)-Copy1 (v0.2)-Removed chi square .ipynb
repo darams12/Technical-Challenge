{
 "cells": [
  {
   "cell_type": "raw",
   "id": "96db8b50",
   "metadata": {},
   "source": [
    "import numpy as np\n",
    "import pandas as pd\n",
    "from pandas_profiling import ProfileReport\n",
    "\n",
    "df = pd.read_csv(r'C:\\Users\\moa57\\surveyFA2.csv')\n"
   ]
  },
  {
   "cell_type": "code",
   "execution_count": 1,
   "id": "aca70572",
   "metadata": {},
   "outputs": [
    {
     "ename": "NameError",
     "evalue": "name 'df' is not defined",
     "output_type": "error",
     "traceback": [
      "\u001b[1;31m---------------------------------------------------------------------------\u001b[0m",
      "\u001b[1;31mNameError\u001b[0m                                 Traceback (most recent call last)",
      "\u001b[1;32m<ipython-input-1-86eeda312824>\u001b[0m in \u001b[0;36m<module>\u001b[1;34m\u001b[0m\n\u001b[1;32m----> 1\u001b[1;33m \u001b[0mprint\u001b[0m\u001b[1;33m(\u001b[0m\u001b[0mdf\u001b[0m\u001b[1;33m.\u001b[0m\u001b[0mshape\u001b[0m\u001b[1;33m)\u001b[0m\u001b[1;33m\u001b[0m\u001b[1;33m\u001b[0m\u001b[0m\n\u001b[0m",
      "\u001b[1;31mNameError\u001b[0m: name 'df' is not defined"
     ]
    }
   ],
   "source": [
    "print(df.shape)"
   ]
  },
  {
   "cell_type": "code",
   "execution_count": null,
   "id": "82d3b9e8",
   "metadata": {},
   "outputs": [],
   "source": [
    "df.head()"
   ]
  },
  {
   "cell_type": "code",
   "execution_count": null,
   "id": "682a748a",
   "metadata": {},
   "outputs": [],
   "source": [
    "df.columns"
   ]
  },
  {
   "cell_type": "code",
   "execution_count": null,
   "id": "9f5c310c",
   "metadata": {},
   "outputs": [],
   "source": [
    "df2 = df[[\"Country\", \"self_employed\", \"family_history\", \"treatment\"]]"
   ]
  },
  {
   "cell_type": "code",
   "execution_count": null,
   "id": "c34dfacc",
   "metadata": {},
   "outputs": [],
   "source": [
    "df[\"Gender\"].value_counts()"
   ]
  },
  {
   "cell_type": "code",
   "execution_count": null,
   "id": "a80dcf2f",
   "metadata": {},
   "outputs": [],
   "source": [
    "df[\"Age\"].describe()"
   ]
  },
  {
   "cell_type": "code",
   "execution_count": null,
   "id": "9aec245a",
   "metadata": {},
   "outputs": [],
   "source": [
    "df3=df.copy()\n",
    "df3['Gender_0']=df3['Gender']\n",
    "df3['Gender_0'].replace({'male': 'Male', \n",
    "                         'female': 'Female', \n",
    "                         'f': 'Female', \n",
    "                         'm': 'Male', \n",
    "                         'F': 'Female', \n",
    "                         'M': 'Male',\n",
    "                         'Make': 'Male', \n",
    "                         'Woman': 'Female', \n",
    "                         'woman': 'Female', \n",
    "                         'Female (cis)': 'Female',\n",
    "                        'Male ': 'Male',\n",
    "                        'Man': 'Male',\n",
    "                        'Mail': 'Male',\n",
    "                        'maile': 'Male',\n",
    "                        'Male CIS': 'Male',\n",
    "                        'femail': 'Female',\n",
    "                        'Femake': 'Female',\n",
    "                        'Cis Female': 'Female',\n",
    "                        'Cis Man': 'Male',\n",
    "                        'Cis Male': 'Male',\n",
    "                        'Female ': 'Female',\n",
    "                        'Male (CIS)': 'Male',\n",
    "                        'cis male': 'Male',\n",
    "                        'Malr': 'Male',\n",
    "                        'Mal': 'Male',\n",
    "                        'cis-female/femme': 'Female',\n",
    "                        'msle': 'Male',\n",
    "                        'Male-ish': 'Female',\n",
    "                        'Guy (-ish) ^_^': 'Male',\n",
    "                        'Female (trans)': 'Female',\n",
    "                        'Trans woman': 'Female',\n",
    "                        'Trans-female': 'Female'}, inplace=True)\n",
    "\n",
    "df3.loc[(df3['Gender_0'] != 'Female') & (df3['Gender_0'] != 'Male'), 'Gender_0'] = \"Unknown\"\n",
    "df3['Gender_0'].describe()"
   ]
  },
  {
   "cell_type": "code",
   "execution_count": null,
   "id": "a108985d",
   "metadata": {},
   "outputs": [],
   "source": [
    "df3['Gender_0']"
   ]
  },
  {
   "cell_type": "code",
   "execution_count": null,
   "id": "d7c1d37c",
   "metadata": {},
   "outputs": [],
   "source": [
    "df3.columns"
   ]
  },
  {
   "cell_type": "code",
   "execution_count": null,
   "id": "ecce3e93",
   "metadata": {},
   "outputs": [],
   "source": [
    "#Clean up age\n",
    "df3['Age'].describe()"
   ]
  },
  {
   "cell_type": "code",
   "execution_count": null,
   "id": "6a09b078",
   "metadata": {},
   "outputs": [],
   "source": [
    "#df3.loc[(df3['Age']<18) | (df3['Age']>80)]=None"
   ]
  },
  {
   "cell_type": "code",
   "execution_count": null,
   "id": "e5501a41",
   "metadata": {},
   "outputs": [],
   "source": [
    "#creates 2 groups \n",
    "#df3.loc[(df3['Age']<18) | (df3['Age']>80), 'Age']=None\n",
    "#df3['Age_Group'] = df3['Age']\n",
    "#df3['Age_Group'] = df3['Age_Group'] >30 \n",
    "#df3['Age_Group'] = df3['Age_Group'].map({False:\"18-30\", True:\">30years\"}) \n",
    "#df3['Age_Group'].value_counts()"
   ]
  },
  {
   "cell_type": "code",
   "execution_count": null,
   "id": "7ade9ead",
   "metadata": {},
   "outputs": [],
   "source": [
    "##creates 3 groups didnt use as 31-50 too small \n",
    "\n",
    "#df3.loc[(df3['Age']<18) | (df3['Age']>80), 'Age']=None\n",
    "#df3['Age_Group'] = df3['Age']\n",
    "#df3.loc[df3['Age']<=30, 'Age_Group'] = \"18-30\"\n",
    "#df3.loc[df3['Age']>50, 'Age_Group'] = \"greater_than 50\"\n",
    "#df3.loc[(df3['Age']>30) & (df3['Age']<=50), 'Age_Group'] = \"31-50\"\n",
    "#df3['Age_Group'] = df3['Age_Group'].map({False:\"18-30\", True:\">30years\"}) #creates 2 groups \n",
    "#df3['Age_Group'].value_counts()"
   ]
  },
  {
   "cell_type": "code",
   "execution_count": null,
   "id": "e686f76e",
   "metadata": {},
   "outputs": [],
   "source": [
    "df3.loc[(df3['Age']<18) | (df3['Age']>80), 'Age']=None\n",
    "df3['Age_Group'] = df3['Age']\n",
    "df3.loc[df3['Age']<=30, 'Age_Group'] = \"18-30\"\n",
    "df3.loc[df3['Age']>30, 'Age_Group'] = \"greater_than 30\"\n",
    "#df3.loc[(df3['Age']>30) & (df3['Age']<=50), 'Age_Group'] = \"31-50\"\n",
    "#df3['Age_Group'] = df3['Age_Group'].map({False:\"18-30\", True:\">30years\"}) #creates 2 groups \n",
    "df3['Age_Group'].value_counts()"
   ]
  },
  {
   "cell_type": "code",
   "execution_count": null,
   "id": "4ffd413d",
   "metadata": {},
   "outputs": [],
   "source": [
    "df3['Age']"
   ]
  },
  {
   "cell_type": "code",
   "execution_count": null,
   "id": "c4499fd5",
   "metadata": {},
   "outputs": [],
   "source": [
    "df3.columns"
   ]
  },
  {
   "cell_type": "code",
   "execution_count": null,
   "id": "7eb805b9",
   "metadata": {
    "scrolled": true
   },
   "outputs": [],
   "source": [
    "#try running the profiler on afew var of interest\n",
    "columns_of_interest = ['Age_Group', 'Age', 'Gender_0', 'Country', 'self_employed',\n",
    "       'family_history', 'treatment', 'work_interfere', 'no_employees',\n",
    "       'remote_work', 'tech_company', 'benefits', 'care_options',\n",
    "       'wellness_program', 'seek_help', 'anonymity', 'leave',\n",
    "       'mental_health_consequence', 'phys_health_consequence', 'coworkers',\n",
    "       'supervisor',\n",
    "       'mental_vs_physical', 'obs_consequence']\n",
    "profile = ProfileReport(df3.loc[:,columns_of_interest], \n",
    "                        title=\"Pandas Profiling Report\")\n",
    "profile"
   ]
  },
  {
   "cell_type": "code",
   "execution_count": null,
   "id": "62f286e4",
   "metadata": {},
   "outputs": [],
   "source": [
    "#Generated a Contingency/2-way table\n",
    "\n",
    "pd.crosstab(df3['Gender_0'],df3['treatment'],margins=True)"
   ]
  },
  {
   "cell_type": "code",
   "execution_count": null,
   "id": "f65a7018",
   "metadata": {},
   "outputs": [],
   "source": [
    "#Create a Custom Function to generate the 2-way tab with cell frequency and percentages \n",
    "\n",
    "def addpercentage(row):\n",
    "    cell_1 = row['No']/row['All']*100\n",
    "    cell_2 = row['Yes']/row['All']*100\n",
    "    row['No'] = \"{} ({:.1f}%)\".format(row['No'],cell_1)\n",
    "    row['Yes'] = \"{} ({:.1f}%)\".format(row['Yes'],cell_2)\n",
    "    return row"
   ]
  },
  {
   "cell_type": "code",
   "execution_count": null,
   "id": "7a7f15f7",
   "metadata": {
    "scrolled": true
   },
   "outputs": [],
   "source": [
    "#Generate a 2-way tab with cell frequency and percentages [Gender_0]\n",
    "\n",
    "table = pd.crosstab(df3['Gender_0'],df3['treatment'],margins=True)\n",
    "table.apply(addpercentage, axis=1)"
   ]
  },
  {
   "cell_type": "code",
   "execution_count": null,
   "id": "2e22aca2",
   "metadata": {},
   "outputs": [],
   "source": [
    "#Generate a 2-way tab with cell frequency and percentages [self_employed]\n",
    "\n",
    "table_1 = pd.crosstab(df3['self_employed'],df3['treatment'],margins=True)\n",
    "table_1.apply(addpercentage, axis=1)"
   ]
  },
  {
   "cell_type": "code",
   "execution_count": null,
   "id": "1997b0fa",
   "metadata": {},
   "outputs": [],
   "source": [
    "#Generate a 2-way tab with cell frequency and percentages [family_history]\n",
    "\n",
    "table_2 = pd.crosstab(df3['family_history'],df3['treatment'],margins=True)\n",
    "table_2.apply(addpercentage, axis=1)"
   ]
  },
  {
   "cell_type": "code",
   "execution_count": null,
   "id": "503fb991",
   "metadata": {},
   "outputs": [],
   "source": [
    "#Generate a 2-way tab with cell frequency and percentages [no_employees]\n",
    "\n",
    "table_3 = pd.crosstab(df3['no_employees'],df3['treatment'],margins=True)\n",
    "table_3.apply(addpercentage, axis=1)"
   ]
  },
  {
   "cell_type": "code",
   "execution_count": null,
   "id": "083485e9",
   "metadata": {},
   "outputs": [],
   "source": [
    "#Generate a 2-way tab with cell frequency and percentages [remote_work]\n",
    "\n",
    "table_4 = pd.crosstab(df3['remote_work'],df3['treatment'],margins=True)\n",
    "table_4.apply(addpercentage, axis=1)"
   ]
  },
  {
   "cell_type": "code",
   "execution_count": null,
   "id": "c72e3507",
   "metadata": {},
   "outputs": [],
   "source": [
    "#Generate a 2-way tab with cell frequency and percentages [care_options]\n",
    "\n",
    "table_5 = pd.crosstab(df3['care_options'],df3['treatment'],margins=True)\n",
    "table_5.apply(addpercentage, axis=1)"
   ]
  },
  {
   "cell_type": "code",
   "execution_count": null,
   "id": "e083de38",
   "metadata": {},
   "outputs": [],
   "source": [
    "#Generate a 2-way tab with cell frequency and percentages [seek_help]\n",
    "\n",
    "table_6 = pd.crosstab(df3['seek_help'],df3['treatment'],margins=True)\n",
    "table_6.apply(addpercentage, axis=1)"
   ]
  },
  {
   "cell_type": "code",
   "execution_count": null,
   "id": "612837b6",
   "metadata": {},
   "outputs": [],
   "source": [
    "#Generate a 2-way tab with cell frequency and percentages [anonymity]\n",
    "\n",
    "table_7 = pd.crosstab(df3['anonymity'],df3['treatment'],margins=True)\n",
    "table_7.apply(addpercentage, axis=1)"
   ]
  },
  {
   "cell_type": "code",
   "execution_count": null,
   "id": "8b9554ed",
   "metadata": {},
   "outputs": [],
   "source": [
    "#Generate a 2-way tab with cell frequency and percentages [leave]\n",
    "\n",
    "table_8 = pd.crosstab(df3['leave'],df3['treatment'],margins=True)\n",
    "table_8.apply(addpercentage, axis=1)"
   ]
  },
  {
   "cell_type": "code",
   "execution_count": null,
   "id": "83e6a18d",
   "metadata": {},
   "outputs": [],
   "source": [
    "#Chi-square Test: Applied when you have 2 categorical variables from a single population. \n",
    "#It is used to determine whethere there is a significant association between the 2 variables. \n",
    "\n",
    "import scipy.stats as stats\n"
   ]
  },
  {
   "cell_type": "code",
   "execution_count": null,
   "id": "d21733ec",
   "metadata": {},
   "outputs": [],
   "source": [
    "#Null Hypothesis: there is no association in Mental Health treatment between males and females \n",
    "#Alternate Hypothesis: there is an association in Mental Health treatment between males and females \n",
    "#Significant Value = 5% (i.e. 95% Confidence Level)\n",
    "#Calcuate Critical value (Gender_0)\n",
    "#degree of freedom (dof) = 2"
   ]
  },
  {
   "cell_type": "code",
   "execution_count": null,
   "id": "79ab307e",
   "metadata": {},
   "outputs": [],
   "source": [
    "# Display 2 by 2 dimensional table for Gender_0\n",
    "\n",
    "table = pd.crosstab(df3['Gender_0'],df3['treatment'],margins=True)\n",
    "table.apply(addpercentage, axis=1)"
   ]
  },
  {
   "cell_type": "code",
   "execution_count": null,
   "id": "5daa01de",
   "metadata": {},
   "outputs": [],
   "source": [
    "# Display array for Gender_0\n",
    "\n",
    "table.values"
   ]
  },
  {
   "cell_type": "code",
   "execution_count": null,
   "id": "f7ca47e2",
   "metadata": {},
   "outputs": [],
   "source": [
    "#Observed Values for Gender_0 \n",
    "\n",
    "Observed_Values = table.values\n",
    "print(\"Observed Values : \\n\" ,Observed_Values)"
   ]
  },
  {
   "cell_type": "code",
   "execution_count": null,
   "id": "017271b4",
   "metadata": {},
   "outputs": [],
   "source": [
    "#Apply chi2_contingency function within the 'stats' library\n",
    "\n",
    "val = stats.chi2_contingency(table)"
   ]
  },
  {
   "cell_type": "code",
   "execution_count": null,
   "id": "d8cbf0d5",
   "metadata": {},
   "outputs": [],
   "source": [
    "#Display val to display p square \n",
    "\n",
    "val"
   ]
  },
  {
   "cell_type": "code",
   "execution_count": null,
   "id": "1adb4d68",
   "metadata": {},
   "outputs": [],
   "source": []
  }
 ],
 "metadata": {
  "kernelspec": {
   "display_name": "Python 3",
   "language": "python",
   "name": "python3"
  },
  "language_info": {
   "codemirror_mode": {
    "name": "ipython",
    "version": 3
   },
   "file_extension": ".py",
   "mimetype": "text/x-python",
   "name": "python",
   "nbconvert_exporter": "python",
   "pygments_lexer": "ipython3",
   "version": "3.8.8"
  }
 },
 "nbformat": 4,
 "nbformat_minor": 5
}
